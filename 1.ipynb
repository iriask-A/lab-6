{
 "cells": [
  {
   "cell_type": "markdown",
   "metadata": {},
   "source": [
    "Python builtin functions"
   ]
  },
  {
   "cell_type": "code",
   "execution_count": 5,
   "metadata": {},
   "outputs": [
    {
     "name": "stdout",
     "output_type": "stream",
     "text": [
      "360\n"
     ]
    }
   ],
   "source": [
    "#1\n",
    "import functools\n",
    "import operator\n",
    "x=[2,5,12,3]\n",
    "y= functools.reduce(operator.mul,x)\n",
    "print(y)"
   ]
  },
  {
   "cell_type": "code",
   "execution_count": 6,
   "metadata": {},
   "outputs": [
    {
     "name": "stdout",
     "output_type": "stream",
     "text": [
      "4\n"
     ]
    }
   ],
   "source": [
    "#2\n",
    "x=\"Hello World! This apple was Tasty.\"\n",
    "count=0\n",
    "for i in x:\n",
    "    if i.isupper():\n",
    "        count+=1\n",
    "print(count)"
   ]
  },
  {
   "cell_type": "code",
   "execution_count": 27,
   "metadata": {},
   "outputs": [
    {
     "name": "stdout",
     "output_type": "stream",
     "text": [
      "True\n"
     ]
    }
   ],
   "source": [
    "#3\n",
    "x=\"wow\"\n",
    "y=[i for i in x]\n",
    "a=reversed(y)\n",
    "if y==list(a):\n",
    "    print(\"True\")\n",
    "else:\n",
    "    print(\"False\")"
   ]
  },
  {
   "cell_type": "code",
   "execution_count": 41,
   "metadata": {},
   "outputs": [
    {
     "name": "stdout",
     "output_type": "stream",
     "text": [
      "158.42979517754858\n"
     ]
    }
   ],
   "source": [
    "#4\n",
    "import math\n",
    "import time \n",
    "x=25100 #the number \n",
    "y=2123 #milisecund\n",
    "time.sleep(y/1000)\n",
    "print(math.sqrt(x))"
   ]
  },
  {
   "cell_type": "code",
   "execution_count": 42,
   "metadata": {},
   "outputs": [
    {
     "name": "stdout",
     "output_type": "stream",
     "text": [
      "True\n"
     ]
    }
   ],
   "source": [
    "#5\n",
    "y = [True, True, True]\n",
    "x = all(y)\n",
    "print(x)"
   ]
  },
  {
   "cell_type": "markdown",
   "metadata": {},
   "source": [
    "Python Directories and Files"
   ]
  },
  {
   "cell_type": "code",
   "execution_count": 17,
   "metadata": {},
   "outputs": [
    {
     "name": "stdout",
     "output_type": "stream",
     "text": [
      "Folders:\n",
      "abc\n",
      "blabla\n",
      "\n",
      "Files:\n",
      "a.cpp\n",
      ".DS_Store\n",
      "IS.pdf\n",
      "row.json\n",
      "1.py\n",
      "row.txt\n",
      "\n",
      "Everything:\n",
      "a.cpp\n",
      "abc\n",
      ".DS_Store\n",
      "IS.pdf\n",
      "row.json\n",
      "1.py\n",
      "row.txt\n",
      "blabla\n"
     ]
    }
   ],
   "source": [
    "#1\n",
    "import os\n",
    "path= \"/Users/inkar/Desktop/pp\"\n",
    "print(\"Folders:\")\n",
    "for item in os.listdir(path):\n",
    "    if os.path.isdir(os.path.join(path, item)):\n",
    "        print(item)\n",
    "\n",
    "print(\"\\nFiles:\")\n",
    "for item in os.listdir(path):\n",
    "    if os.path.isfile(os.path.join(path, item)):\n",
    "        print(item)\n",
    "\n",
    "print(\"\\nEverything:\")\n",
    "for item in os.listdir(path):\n",
    "    print(item)\n"
   ]
  },
  {
   "cell_type": "code",
   "execution_count": 20,
   "metadata": {},
   "outputs": [
    {
     "name": "stdout",
     "output_type": "stream",
     "text": [
      "the path is readable\n",
      "the path is writable\n",
      "the path is executable\n"
     ]
    }
   ],
   "source": [
    "#2\n",
    "import os\n",
    "path=\"/Users/inkar/Desktop/pp\"\n",
    "if os.path.exists(path):\n",
    "    if os.access(path,os.R_OK):\n",
    "        print(\"the path is readable\")\n",
    "    if os.access(path,os.W_OK):\n",
    "        print(\"the path is writable\")\n",
    "    if os.access(path,os.X_OK):\n",
    "        print(\"the path is executable\")\n",
    "else:\n",
    "    print(\"The path does not exist\")"
   ]
  },
  {
   "cell_type": "code",
   "execution_count": 25,
   "metadata": {},
   "outputs": [
    {
     "name": "stdout",
     "output_type": "stream",
     "text": [
      "Directory: /Users/inkar/Desktop\n",
      "Filename: pp\n"
     ]
    }
   ],
   "source": [
    "#3\n",
    "import os\n",
    "path=\"/Users/inkar/Desktop/pp\"\n",
    "def check(path):\n",
    "    if os.path.exists(path):\n",
    "        directory = os.path.dirname(path)\n",
    "        filename = os.path.basename(path)\n",
    "        print(f\"Directory: {directory}\")\n",
    "        print(f\"Filename: {filename}\")\n",
    "    else:\n",
    "        print(\"The path does not exist\")\n",
    "check(path)"
   ]
  },
  {
   "cell_type": "code",
   "execution_count": 2,
   "metadata": {},
   "outputs": [
    {
     "name": "stdout",
     "output_type": "stream",
     "text": [
      "6\n"
     ]
    }
   ],
   "source": [
    "#4\n",
    "f=open(\"1.txt\")\n",
    "count=0\n",
    "for line in f:\n",
    "    count+=1\n",
    "print(count)/Users/inkar/Desktop/labs/lab-6"
   ]
  },
  {
   "cell_type": "code",
   "execution_count": 27,
   "metadata": {},
   "outputs": [],
   "source": [
    "#5\n",
    "Data_list=[132,\"apple\",'hello',True]\n",
    "with open(\"new.txt\", 'w') as f:\n",
    "        for item in Data_list:\n",
    "            f.write(f\"{item}\\n\")"
   ]
  },
  {
   "cell_type": "code",
   "execution_count": 30,
   "metadata": {},
   "outputs": [],
   "source": [
    "#6\n",
    "for file in range(26):\n",
    "    name=chr(65+file)\n",
    "    with open(f\"{name}.txt\",\"x\") as f:\n",
    "        pass"
   ]
  },
  {
   "cell_type": "code",
   "execution_count": 3,
   "metadata": {},
   "outputs": [],
   "source": [
    "#7\n",
    "with open(\"1.txt\",\"r\") as f:\n",
    "    with open(\"copy.txt\",\"w\") as copy:\n",
    "        for line in f:\n",
    "            copy.write(line)\n"
   ]
  },
  {
   "cell_type": "code",
   "execution_count": 32,
   "metadata": {},
   "outputs": [],
   "source": [
    "#8\n",
    "import os\n",
    "path=\"/Users/inkar/Desktop/pp\"\n",
    "if os.path.exists(path):\n",
    "    if os.access(path,os.R_OK):\n",
    "        if os.access(path,os.W_OK):\n",
    "            if os.access(path,os.X_OK):\n",
    "                os.remove(\"/Users/inkar/Desktop/pp/a.cpp\")\n",
    "            \n",
    "else:\n",
    "    print(\"The path does not exist\")"
   ]
  }
 ],
 "metadata": {
  "kernelspec": {
   "display_name": "Python 3",
   "language": "python",
   "name": "python3"
  },
  "language_info": {
   "codemirror_mode": {
    "name": "ipython",
    "version": 3
   },
   "file_extension": ".py",
   "mimetype": "text/x-python",
   "name": "python",
   "nbconvert_exporter": "python",
   "pygments_lexer": "ipython3",
   "version": "3.13.1"
  }
 },
 "nbformat": 4,
 "nbformat_minor": 2
}
